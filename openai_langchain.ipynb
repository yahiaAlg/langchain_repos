{
 "cells": [
  {
   "cell_type": "code",
   "execution_count": 1,
   "metadata": {},
   "outputs": [
    {
     "name": "stdout",
     "output_type": "stream",
     "text": [
      "Name: langchain\n",
      "Version: 0.1.16\n",
      "Summary: Building applications with LLMs through composability\n",
      "Home-page: https://github.com/langchain-ai/langchain\n",
      "Author: \n",
      "Author-email: \n",
      "License: MIT\n",
      "Location: c:\\Users\\Yahia\\Desktop\\langchain_bot\\.venv\\Lib\\site-packages\n",
      "Requires: aiohttp, dataclasses-json, jsonpatch, langchain-community, langchain-core, langchain-text-splitters, langsmith, numpy, pydantic, PyYAML, requests, SQLAlchemy, tenacity\n",
      "Required-by: \n",
      "Note: you may need to restart the kernel to use updated packages.\n"
     ]
    }
   ],
   "source": [
    "pip show langchain"
   ]
  },
  {
   "cell_type": "code",
   "execution_count": 4,
   "metadata": {},
   "outputs": [
    {
     "name": "stdout",
     "output_type": "stream",
     "text": [
      "Collecting langchain-anthropic\n",
      "  Downloading langchain_anthropic-0.1.11-py3-none-any.whl.metadata (2.1 kB)\n",
      "Collecting anthropic<1,>=0.23.0 (from langchain-anthropic)\n",
      "  Downloading anthropic-0.25.6-py3-none-any.whl.metadata (18 kB)\n",
      "Collecting defusedxml<0.8.0,>=0.7.1 (from langchain-anthropic)\n",
      "  Using cached defusedxml-0.7.1-py2.py3-none-any.whl.metadata (32 kB)\n",
      "Requirement already satisfied: langchain-core<0.2.0,>=0.1.43 in c:\\users\\yahia\\desktop\\langchain_bot\\.venv\\lib\\site-packages (from langchain-anthropic) (0.1.44)\n",
      "Requirement already satisfied: anyio<5,>=3.5.0 in c:\\users\\yahia\\desktop\\langchain_bot\\.venv\\lib\\site-packages (from anthropic<1,>=0.23.0->langchain-anthropic) (4.3.0)\n",
      "Requirement already satisfied: distro<2,>=1.7.0 in c:\\users\\yahia\\desktop\\langchain_bot\\.venv\\lib\\site-packages (from anthropic<1,>=0.23.0->langchain-anthropic) (1.9.0)\n",
      "Requirement already satisfied: httpx<1,>=0.23.0 in c:\\users\\yahia\\desktop\\langchain_bot\\.venv\\lib\\site-packages (from anthropic<1,>=0.23.0->langchain-anthropic) (0.27.0)\n",
      "Requirement already satisfied: pydantic<3,>=1.9.0 in c:\\users\\yahia\\desktop\\langchain_bot\\.venv\\lib\\site-packages (from anthropic<1,>=0.23.0->langchain-anthropic) (2.7.0)\n",
      "Requirement already satisfied: sniffio in c:\\users\\yahia\\desktop\\langchain_bot\\.venv\\lib\\site-packages (from anthropic<1,>=0.23.0->langchain-anthropic) (1.3.1)\n",
      "Collecting tokenizers>=0.13.0 (from anthropic<1,>=0.23.0->langchain-anthropic)\n",
      "  Downloading tokenizers-0.19.1-cp312-none-win_amd64.whl.metadata (6.9 kB)\n",
      "Requirement already satisfied: typing-extensions<5,>=4.7 in c:\\users\\yahia\\desktop\\langchain_bot\\.venv\\lib\\site-packages (from anthropic<1,>=0.23.0->langchain-anthropic) (4.11.0)\n",
      "Requirement already satisfied: PyYAML>=5.3 in c:\\users\\yahia\\desktop\\langchain_bot\\.venv\\lib\\site-packages (from langchain-core<0.2.0,>=0.1.43->langchain-anthropic) (6.0.1)\n",
      "Requirement already satisfied: jsonpatch<2.0,>=1.33 in c:\\users\\yahia\\desktop\\langchain_bot\\.venv\\lib\\site-packages (from langchain-core<0.2.0,>=0.1.43->langchain-anthropic) (1.33)\n",
      "Requirement already satisfied: langsmith<0.2.0,>=0.1.0 in c:\\users\\yahia\\desktop\\langchain_bot\\.venv\\lib\\site-packages (from langchain-core<0.2.0,>=0.1.43->langchain-anthropic) (0.1.48)\n",
      "Requirement already satisfied: packaging<24.0,>=23.2 in c:\\users\\yahia\\desktop\\langchain_bot\\.venv\\lib\\site-packages (from langchain-core<0.2.0,>=0.1.43->langchain-anthropic) (23.2)\n",
      "Requirement already satisfied: tenacity<9.0.0,>=8.1.0 in c:\\users\\yahia\\desktop\\langchain_bot\\.venv\\lib\\site-packages (from langchain-core<0.2.0,>=0.1.43->langchain-anthropic) (8.2.3)\n",
      "Requirement already satisfied: idna>=2.8 in c:\\users\\yahia\\desktop\\langchain_bot\\.venv\\lib\\site-packages (from anyio<5,>=3.5.0->anthropic<1,>=0.23.0->langchain-anthropic) (3.7)\n",
      "Requirement already satisfied: certifi in c:\\users\\yahia\\desktop\\langchain_bot\\.venv\\lib\\site-packages (from httpx<1,>=0.23.0->anthropic<1,>=0.23.0->langchain-anthropic) (2024.2.2)\n",
      "Requirement already satisfied: httpcore==1.* in c:\\users\\yahia\\desktop\\langchain_bot\\.venv\\lib\\site-packages (from httpx<1,>=0.23.0->anthropic<1,>=0.23.0->langchain-anthropic) (1.0.5)\n",
      "Requirement already satisfied: h11<0.15,>=0.13 in c:\\users\\yahia\\desktop\\langchain_bot\\.venv\\lib\\site-packages (from httpcore==1.*->httpx<1,>=0.23.0->anthropic<1,>=0.23.0->langchain-anthropic) (0.14.0)\n",
      "Requirement already satisfied: jsonpointer>=1.9 in c:\\users\\yahia\\desktop\\langchain_bot\\.venv\\lib\\site-packages (from jsonpatch<2.0,>=1.33->langchain-core<0.2.0,>=0.1.43->langchain-anthropic) (2.4)\n",
      "Requirement already satisfied: orjson<4.0.0,>=3.9.14 in c:\\users\\yahia\\desktop\\langchain_bot\\.venv\\lib\\site-packages (from langsmith<0.2.0,>=0.1.0->langchain-core<0.2.0,>=0.1.43->langchain-anthropic) (3.10.1)\n",
      "Requirement already satisfied: requests<3,>=2 in c:\\users\\yahia\\desktop\\langchain_bot\\.venv\\lib\\site-packages (from langsmith<0.2.0,>=0.1.0->langchain-core<0.2.0,>=0.1.43->langchain-anthropic) (2.31.0)\n",
      "Requirement already satisfied: annotated-types>=0.4.0 in c:\\users\\yahia\\desktop\\langchain_bot\\.venv\\lib\\site-packages (from pydantic<3,>=1.9.0->anthropic<1,>=0.23.0->langchain-anthropic) (0.6.0)\n",
      "Requirement already satisfied: pydantic-core==2.18.1 in c:\\users\\yahia\\desktop\\langchain_bot\\.venv\\lib\\site-packages (from pydantic<3,>=1.9.0->anthropic<1,>=0.23.0->langchain-anthropic) (2.18.1)\n",
      "Collecting huggingface-hub<1.0,>=0.16.4 (from tokenizers>=0.13.0->anthropic<1,>=0.23.0->langchain-anthropic)\n",
      "  Downloading huggingface_hub-0.22.2-py3-none-any.whl.metadata (12 kB)\n",
      "Collecting filelock (from huggingface-hub<1.0,>=0.16.4->tokenizers>=0.13.0->anthropic<1,>=0.23.0->langchain-anthropic)\n",
      "  Downloading filelock-3.13.4-py3-none-any.whl.metadata (2.8 kB)\n",
      "Collecting fsspec>=2023.5.0 (from huggingface-hub<1.0,>=0.16.4->tokenizers>=0.13.0->anthropic<1,>=0.23.0->langchain-anthropic)\n",
      "  Downloading fsspec-2024.3.1-py3-none-any.whl.metadata (6.8 kB)\n",
      "Requirement already satisfied: tqdm>=4.42.1 in c:\\users\\yahia\\desktop\\langchain_bot\\.venv\\lib\\site-packages (from huggingface-hub<1.0,>=0.16.4->tokenizers>=0.13.0->anthropic<1,>=0.23.0->langchain-anthropic) (4.66.2)\n",
      "Requirement already satisfied: charset-normalizer<4,>=2 in c:\\users\\yahia\\desktop\\langchain_bot\\.venv\\lib\\site-packages (from requests<3,>=2->langsmith<0.2.0,>=0.1.0->langchain-core<0.2.0,>=0.1.43->langchain-anthropic) (3.3.2)\n",
      "Requirement already satisfied: urllib3<3,>=1.21.1 in c:\\users\\yahia\\desktop\\langchain_bot\\.venv\\lib\\site-packages (from requests<3,>=2->langsmith<0.2.0,>=0.1.0->langchain-core<0.2.0,>=0.1.43->langchain-anthropic) (2.2.1)\n",
      "Requirement already satisfied: colorama in c:\\users\\yahia\\desktop\\langchain_bot\\.venv\\lib\\site-packages (from tqdm>=4.42.1->huggingface-hub<1.0,>=0.16.4->tokenizers>=0.13.0->anthropic<1,>=0.23.0->langchain-anthropic) (0.4.6)\n",
      "Downloading langchain_anthropic-0.1.11-py3-none-any.whl (16 kB)\n",
      "Downloading anthropic-0.25.6-py3-none-any.whl (870 kB)\n",
      "   ---------------------------------------- 0.0/870.7 kB ? eta -:--:--\n",
      "   - -------------------------------------- 30.7/870.7 kB 1.3 MB/s eta 0:00:01\n",
      "   ----- ---------------------------------- 122.9/870.7 kB 1.4 MB/s eta 0:00:01\n",
      "   --------- ------------------------------ 204.8/870.7 kB 1.6 MB/s eta 0:00:01\n",
      "   ------------- -------------------------- 286.7/870.7 kB 1.6 MB/s eta 0:00:01\n",
      "   ----------------- ---------------------- 389.1/870.7 kB 1.6 MB/s eta 0:00:01\n",
      "   --------------------- ------------------ 471.0/870.7 kB 1.6 MB/s eta 0:00:01\n",
      "   ------------------------- -------------- 553.0/870.7 kB 1.6 MB/s eta 0:00:01\n",
      "   ------------------------------ --------- 655.4/870.7 kB 1.7 MB/s eta 0:00:01\n",
      "   --------------------------------- ------ 737.3/870.7 kB 1.7 MB/s eta 0:00:01\n",
      "   ------------------------------------- -- 819.2/870.7 kB 1.7 MB/s eta 0:00:01\n",
      "   ---------------------------------------  870.4/870.7 kB 1.7 MB/s eta 0:00:01\n",
      "   ---------------------------------------- 870.7/870.7 kB 1.6 MB/s eta 0:00:00\n",
      "Using cached defusedxml-0.7.1-py2.py3-none-any.whl (25 kB)\n",
      "Downloading tokenizers-0.19.1-cp312-none-win_amd64.whl (2.2 MB)\n",
      "   ---------------------------------------- 0.0/2.2 MB ? eta -:--:--\n",
      "   - -------------------------------------- 0.1/2.2 MB 3.2 MB/s eta 0:00:01\n",
      "   -- ------------------------------------- 0.1/2.2 MB 2.1 MB/s eta 0:00:01\n",
      "   ---- ----------------------------------- 0.2/2.2 MB 1.9 MB/s eta 0:00:02\n",
      "   ----- ---------------------------------- 0.3/2.2 MB 1.8 MB/s eta 0:00:02\n",
      "   ------- -------------------------------- 0.4/2.2 MB 1.8 MB/s eta 0:00:01\n",
      "   --------- ------------------------------ 0.5/2.2 MB 1.8 MB/s eta 0:00:01\n",
      "   --------- ------------------------------ 0.6/2.2 MB 1.8 MB/s eta 0:00:01\n",
      "   ----------- ---------------------------- 0.7/2.2 MB 1.8 MB/s eta 0:00:01\n",
      "   ------------- -------------------------- 0.7/2.2 MB 1.8 MB/s eta 0:00:01\n",
      "   -------------- ------------------------- 0.8/2.2 MB 1.8 MB/s eta 0:00:01\n",
      "   --------------- ------------------------ 0.9/2.2 MB 1.8 MB/s eta 0:00:01\n",
      "   ---------------- ----------------------- 0.9/2.2 MB 1.8 MB/s eta 0:00:01\n",
      "   ------------------ --------------------- 1.0/2.2 MB 1.8 MB/s eta 0:00:01\n",
      "   ------------------- -------------------- 1.1/2.2 MB 1.8 MB/s eta 0:00:01\n",
      "   --------------------- ------------------ 1.2/2.2 MB 1.8 MB/s eta 0:00:01\n",
      "   ---------------------- ----------------- 1.3/2.2 MB 1.8 MB/s eta 0:00:01\n",
      "   ------------------------ --------------- 1.4/2.2 MB 1.8 MB/s eta 0:00:01\n",
      "   -------------------------- ------------- 1.5/2.2 MB 1.8 MB/s eta 0:00:01\n",
      "   --------------------------- ------------ 1.5/2.2 MB 1.8 MB/s eta 0:00:01\n",
      "   ----------------------------- ---------- 1.6/2.2 MB 1.8 MB/s eta 0:00:01\n",
      "   ------------------------------- -------- 1.7/2.2 MB 1.8 MB/s eta 0:00:01\n",
      "   -------------------------------- ------- 1.8/2.2 MB 1.8 MB/s eta 0:00:01\n",
      "   --------------------------------- ------ 1.9/2.2 MB 1.7 MB/s eta 0:00:01\n",
      "   ----------------------------------- ---- 1.9/2.2 MB 1.8 MB/s eta 0:00:01\n",
      "   ------------------------------------ --- 2.0/2.2 MB 1.8 MB/s eta 0:00:01\n",
      "   -------------------------------------- - 2.1/2.2 MB 1.8 MB/s eta 0:00:01\n",
      "   ---------------------------------------  2.2/2.2 MB 1.8 MB/s eta 0:00:01\n",
      "   ---------------------------------------- 2.2/2.2 MB 1.7 MB/s eta 0:00:00\n",
      "Downloading huggingface_hub-0.22.2-py3-none-any.whl (388 kB)\n",
      "   ---------------------------------------- 0.0/388.9 kB ? eta -:--:--\n",
      "   ------ --------------------------------- 61.4/388.9 kB 1.7 MB/s eta 0:00:01\n",
      "   -------------- ------------------------- 143.4/388.9 kB 1.7 MB/s eta 0:00:01\n",
      "   ------------------------- -------------- 245.8/388.9 kB 1.9 MB/s eta 0:00:01\n",
      "   -------------------------------- ------- 317.4/388.9 kB 1.8 MB/s eta 0:00:01\n",
      "   -------------------------------------- - 378.9/388.9 kB 1.8 MB/s eta 0:00:01\n",
      "   ---------------------------------------- 388.9/388.9 kB 1.6 MB/s eta 0:00:00\n",
      "Downloading fsspec-2024.3.1-py3-none-any.whl (171 kB)\n",
      "   ---------------------------------------- 0.0/172.0 kB ? eta -:--:--\n",
      "   ------------------- -------------------- 81.9/172.0 kB 2.3 MB/s eta 0:00:01\n",
      "   ---------------------------- ----------- 122.9/172.0 kB 1.8 MB/s eta 0:00:01\n",
      "   ---------------------------------------- 172.0/172.0 kB 1.7 MB/s eta 0:00:00\n",
      "Downloading filelock-3.13.4-py3-none-any.whl (11 kB)\n",
      "Installing collected packages: fsspec, filelock, defusedxml, huggingface-hub, tokenizers, anthropic, langchain-anthropic\n",
      "Successfully installed anthropic-0.25.6 defusedxml-0.7.1 filelock-3.13.4 fsspec-2024.3.1 huggingface-hub-0.22.2 langchain-anthropic-0.1.11 tokenizers-0.19.1\n",
      "Note: you may need to restart the kernel to use updated packages.\n"
     ]
    }
   ],
   "source": [
    "pip install langchain-anthropic"
   ]
  },
  {
   "cell_type": "code",
   "execution_count": 2,
   "metadata": {},
   "outputs": [
    {
     "name": "stdout",
     "output_type": "stream",
     "text": [
      "sk-pr....\n"
     ]
    }
   ],
   "source": [
    "from dotenv import load_dotenv,find_dotenv\n",
    "import os\n",
    "import getpass\n",
    "load_dotenv(find_dotenv(), override=True)\n",
    "\n",
    "if \"OPENAI_API_KEY\" not in os.environ:\n",
    "    os.environ[\"OPENAI_API_KEY\"] = getpass.getpass(\"GIVE YOUR OPENAI_API_KEY: \")\n",
    "else:\n",
    "    print(os.environ[\"OPENAI_API_KEY\"][:5]+\"....\")"
   ]
  },
  {
   "cell_type": "code",
   "execution_count": 5,
   "metadata": {},
   "outputs": [
    {
     "ename": "TypeError",
     "evalue": "'module' object is not iterable",
     "output_type": "error",
     "traceback": [
      "\u001b[1;31m---------------------------------------------------------------------------\u001b[0m",
      "\u001b[1;31mTypeError\u001b[0m                                 Traceback (most recent call last)",
      "Cell \u001b[1;32mIn[5], line 2\u001b[0m\n\u001b[0;32m      1\u001b[0m \u001b[38;5;28;01mfrom\u001b[39;00m \u001b[38;5;21;01mlangchain_anthropic\u001b[39;00m \u001b[38;5;28;01mimport\u001b[39;00m chat_models\n\u001b[1;32m----> 2\u001b[0m \u001b[38;5;28;43;01mfor\u001b[39;49;00m\u001b[43m \u001b[49m\u001b[43mmodel\u001b[49m\u001b[43m \u001b[49m\u001b[38;5;129;43;01min\u001b[39;49;00m\u001b[43m \u001b[49m\u001b[43mchat_models\u001b[49m\u001b[43m:\u001b[49m\n\u001b[0;32m      3\u001b[0m \u001b[43m    \u001b[49m\u001b[38;5;28;43mprint\u001b[39;49m\u001b[43m(\u001b[49m\u001b[43mmodel\u001b[49m\u001b[43m)\u001b[49m\n",
      "\u001b[1;31mTypeError\u001b[0m: 'module' object is not iterable"
     ]
    }
   ],
   "source": [
    "from langchain_openai.llms import OpenAI\n",
    "\n",
    "llm = OpenAI(temperature=0)\n",
    "output = llm.invoke(\"the top miltaries in 1940\")\n",
    "print(output.content)"
   ]
  }
 ],
 "metadata": {
  "kernelspec": {
   "display_name": ".venv",
   "language": "python",
   "name": "python3"
  },
  "language_info": {
   "codemirror_mode": {
    "name": "ipython",
    "version": 3
   },
   "file_extension": ".py",
   "mimetype": "text/x-python",
   "name": "python",
   "nbconvert_exporter": "python",
   "pygments_lexer": "ipython3",
   "version": "3.12.2"
  }
 },
 "nbformat": 4,
 "nbformat_minor": 2
}
