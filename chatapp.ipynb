{
 "cells": [
  {
   "cell_type": "code",
   "execution_count": null,
   "metadata": {},
   "outputs": [
    {
     "name": "stdout",
     "output_type": "stream",
     "text": [
      "available API KEY\n",
      "CLAUDE_API_KEY\n",
      "GOOGLE_API_KEY\n",
      "HUGGINGFACE_API_KEY\n",
      "OPENAI_API_KEY\n",
      "PINECONE_API_KEY\n"
     ]
    }
   ],
   "source": [
    "from dotenv import load_dotenv,find_dotenv\n",
    "import os\n",
    "import getpass\n",
    "load_dotenv(find_dotenv(), override=True)\n",
    "\n",
    "if not os.environ.get(\"GOOGLE_API_KEY\",\"\"):\n",
    "    os.environ[\"GOOGLE_API_KEY\"] = getpass.getpass(\"give your api key:\")\n",
    "else:\n",
    "    print(\"available API KEY\")\n",
    "    for api_key in os.environ:\n",
    "        if \"API_\" in api_key:\n",
    "            print(api_key)"
   ]
  },
  {
   "cell_type": "code",
   "execution_count": null,
   "metadata": {},
   "outputs": [],
   "source": [
    "from langchain_google_genai import ChatGoogleGenerativeAI\n",
    "from langchain.schema import SystemMessage\n",
    "from langchain.prompts import ChatPromptTemplate,HumanMessagePromptTemplate\n",
    "from langchain.chains import LLMChain"
   ]
  },
  {
   "cell_type": "code",
   "execution_count": null,
   "metadata": {},
   "outputs": [],
   "source": [
    "llm = ChatGoogleGenerativeAI(model=\"gemini-pro\", temperature=1)\n",
    "prompt = ChatPromptTemplate(\n",
    "    input_variables=[\"content\"],\n",
    "    messages=[\n",
    "        SystemMessage(\n",
    "            content=\"you are a chatbot having conversation with humans\"\n",
    "        ),\n",
    "        HumanMessagePromptTemplate.from_template(\"{content}\")\n",
    "    ]\n",
    ")\n",
    "\n",
    "chain = LLMChain(\n",
    "    llm=llm,\n",
    "    prompt=prompt,\n",
    "    verbose=True\n",
    ")"
   ]
  },
  {
   "cell_type": "code",
   "execution_count": null,
   "metadata": {},
   "outputs": [],
   "source": [
    "while True:\n",
    "    content = input(\"your prompt:\")\n",
    "    if content.lower() in [\"quit\", \"exit\", \"bye\", \"goodbye\", \"\\\\q\", \"/q\"]:\n",
    "        break\n",
    "    output = chain.run({\"content\":content})\n",
    "    print(output)\n",
    "    print(\"-\"*100)"
   ]
  },
  {
   "cell_type": "code",
   "execution_count": 14,
   "metadata": {},
   "outputs": [],
   "source": [
    "%load_ext jupyter_ai_magics"
   ]
  },
  {
   "cell_type": "code",
   "execution_count": null,
   "metadata": {},
   "outputs": [],
   "source": [
    "%ai list"
   ]
  },
  {
   "cell_type": "code",
   "execution_count": 17,
   "metadata": {},
   "outputs": [
    {
     "name": "stderr",
     "output_type": "stream",
     "text": [
      "Format string contains positional fields\n"
     ]
    }
   ],
   "source": [
    "%ai error gemini:gemini-pro"
   ]
  }
 ],
 "metadata": {
  "kernelspec": {
   "display_name": ".venv",
   "language": "python",
   "name": "python3"
  },
  "language_info": {
   "codemirror_mode": {
    "name": "ipython",
    "version": 3
   },
   "file_extension": ".py",
   "mimetype": "text/x-python",
   "name": "python",
   "nbconvert_exporter": "python",
   "pygments_lexer": "ipython3",
   "version": "3.12.2"
  }
 },
 "nbformat": 4,
 "nbformat_minor": 2
}
