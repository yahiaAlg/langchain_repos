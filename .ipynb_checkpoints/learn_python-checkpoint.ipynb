{
 "cells": [
  {
   "cell_type": "code",
   "execution_count": 2,
   "id": "6b0ef54f-3678-46a3-ae33-2fa6a36f6b0e",
   "metadata": {},
   "outputs": [
    {
     "name": "stdout",
     "output_type": "stream",
     "text": [
      "hello jupyter \n",
      "hello jupyter \n",
      "hello jupyter \n",
      "hello jupyter \n",
      "hello jupyter \n",
      "\n"
     ]
    }
   ],
   "source": [
    "print('hello jupyter \\n'*5)"
   ]
  },
  {
   "cell_type": "markdown",
   "id": "6cfd015c-e6bc-4cce-bf74-ef5e88be2992",
   "metadata": {},
   "source": [
    "# Python Lists"
   ]
  },
  {
   "cell_type": "markdown",
   "id": "e359fca4-3134-4ae6-a66e-aaf59eee8cdb",
   "metadata": {},
   "source": [
    "## Methods"
   ]
  },
  {
   "cell_type": "markdown",
   "id": "c0032d37-370b-4802-8855-5b6a74461148",
   "metadata": {},
   "source": [
    "**a list of python List class methods and *properties* with their use cases**"
   ]
  },
  {
   "cell_type": "markdown",
   "id": "6a26cb7b-a4df-4f37-9129-178850c159eb",
   "metadata": {},
   "source": [
    "`append()` used to add an element at the end of the list"
   ]
  },
  {
   "cell_type": "markdown",
   "id": "80585a6e-611a-4713-a77d-fd9f012eaf53",
   "metadata": {},
   "source": [
    "other list modification methods:\n",
    "- insert(object:Obj, index:int)->None\n",
    "- pop(index)->popped_item:Obj\n",
    "- remove(item:Obj)->None\n"
   ]
  },
  {
   "cell_type": "code",
   "execution_count": 8,
   "id": "d7ceb287-c95b-4192-954f-cd2d884462ce",
   "metadata": {},
   "outputs": [],
   "source": [
    "authenticated_users = [\n",
    "    \"yahia\",\n",
    "    \"hadjer\",\n",
    "    \"aziz\"\n",
    "]"
   ]
  },
  {
   "cell_type": "code",
   "execution_count": 9,
   "id": "70946b54-8a8e-4f80-935c-28e3d202a514",
   "metadata": {},
   "outputs": [
    {
     "name": "stdout",
     "output_type": "stream",
     "text": [
      "['yahia', 'hadjer', 'aziz']\n"
     ]
    }
   ],
   "source": [
    "from pprint import pprint\n",
    "pprint(authenticated_users)"
   ]
  },
  {
   "cell_type": "code",
   "execution_count": 11,
   "id": "dd9b9d42-326a-4723-96f9-c70b07b8e6c4",
   "metadata": {},
   "outputs": [
    {
     "name": "stdout",
     "output_type": "stream",
     "text": [
      "slept for 3 secs\n"
     ]
    }
   ],
   "source": [
    "import time\n",
    "time.sleep(3)\n",
    "print(\"slept for 3 secs\")"
   ]
  }
 ],
 "metadata": {
  "kernelspec": {
   "display_name": "Python 3 (ipykernel)",
   "language": "python",
   "name": "python3"
  },
  "language_info": {
   "codemirror_mode": {
    "name": "ipython",
    "version": 3
   },
   "file_extension": ".py",
   "mimetype": "text/x-python",
   "name": "python",
   "nbconvert_exporter": "python",
   "pygments_lexer": "ipython3",
   "version": "3.12.2"
  }
 },
 "nbformat": 4,
 "nbformat_minor": 5
}
