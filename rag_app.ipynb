{
 "cells": [
  {
   "cell_type": "code",
   "execution_count": null,
   "metadata": {},
   "outputs": [],
   "source": [
    "import os\n",
    "from dotenv import load_dotenv, find_dotenv\n",
    "\n",
    "load_dotenv(find_dotenv(), override=True)\n",
    "if os.environ:\n",
    "    for api_key in os.environ:\n",
    "        if \"API_KEY\" in api_key:\n",
    "            print(api_key)\n",
    "else:\n",
    "    import getpass\n",
    "\n",
    "    os.environ[\"GOOGLE_API_KEY\"] = getpass.getpass(\"GOOGLE_API_KEY\")\n",
    "    os.environ[\"PINECONE_API_KEY\"] = getpass.getpass(\"PINECONE_API_KEY\")"
   ]
  },
  {
   "cell_type": "code",
   "execution_count": 1,
   "metadata": {},
   "outputs": [
    {
     "name": "stdout",
     "output_type": "stream",
     "text": [
      "Name: pypdf\n",
      "Version: 4.2.0\n",
      "Summary: A pure-python PDF library capable of splitting, merging, cropping, and transforming PDF files\n",
      "Home-page: \n",
      "Author: \n",
      "Author-email: Mathieu Fenniak <biziqe@mathieu.fenniak.net>\n",
      "License: \n",
      "Location: C:\\Users\\Yahia\\Desktop\\langchain_bot\\.venv\\Lib\\site-packages\n",
      "Requires: \n",
      "Required-by: \n",
      "Name: docx2txt\n",
      "Version: 0.8\n",
      "Summary: A pure python-based utility to extract text and images from docx files.\n",
      "Home-page: https://github.com/ankushshah89/python-docx2txt\n",
      "Author: Ankush Shah\n",
      "Author-email: ankush.shah.nitk@gmail.com\n",
      "License: \n",
      "Location: C:\\Users\\Yahia\\Desktop\\langchain_bot\\.venv\\Lib\\site-packages\n",
      "Requires: \n",
      "Required-by: \n"
     ]
    }
   ],
   "source": [
    "!pip install -q pypdf docx2txt && pip show pypdf && pip show docx2txt\n"
   ]
  },
  {
   "cell_type": "code",
   "execution_count": null,
   "metadata": {},
   "outputs": [],
   "source": [
    "def load_docs(file:str):\n",
    "    import os\n",
    "    filename, extension = os.path.splitext(file)\n",
    "    match extension:\n",
    "        case \".pdf\":\n",
    "            from langchain.document_loaders import PyPDFLoader\n",
    "            loader = PyPDFLoader(file)\n",
    "            print(f\"loading pdf {file} ....\")\n",
    "        case \".txt\":\n",
    "            from langchain.document_loaders import TextLoader\n",
    "            loader = TextLoader(file)\n",
    "            print(f\"loading pdf {file} ....\")\n",
    "        case \".docx\":\n",
    "            from langchain.document_loaders import Docx2textLoader\n",
    "            loader = Docx2textLoader(file)\n",
    "            print(f\"loading pdf {file} ....\")\n",
    "        case _:\n",
    "            print(f\"no such available format such as {extension}\")\n",
    "\n",
    "    data = loader.load()\n",
    "    return data"
   ]
  }
 ],
 "metadata": {
  "kernelspec": {
   "display_name": ".venv",
   "language": "python",
   "name": "python3"
  },
  "language_info": {
   "codemirror_mode": {
    "name": "ipython",
    "version": 3
   },
   "file_extension": ".py",
   "mimetype": "text/x-python",
   "name": "python",
   "nbconvert_exporter": "python",
   "pygments_lexer": "ipython3",
   "version": "3.12.2"
  }
 },
 "nbformat": 4,
 "nbformat_minor": 2
}
